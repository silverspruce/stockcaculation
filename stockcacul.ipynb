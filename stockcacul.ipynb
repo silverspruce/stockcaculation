{
 "cells": [
  {
   "cell_type": "code",
   "execution_count": 1382,
   "metadata": {},
   "outputs": [],
   "source": [
    "import numpy as np\n",
    "import pandas as pd\n",
    "import matplotlib.pyplot as plt\n",
    "%matplotlib inline\n",
    "\n",
    "import requests\n",
    "from io import BytesIO\n",
    "import msgpack\n",
    "\n",
    "import warnings\n",
    "warnings.filterwarnings('ignore')"
   ]
  },
  {
   "cell_type": "code",
   "execution_count": 1383,
   "metadata": {},
   "outputs": [],
   "source": [
    "#获取数据\n",
    "def rawData(stocktype='AAPL'):\n",
    "    url = 'http://106.75.20.96/data-center/download/loadDataInfo.do?types='+stocktype+'&startDate=2000-01-01'+'&endDate=2018-09-28'\n",
    "    r = requests.get(url)\n",
    "    with BytesIO(r.content) as bio:\n",
    "        unpacker = msgpack.Unpacker(bio, raw=False)\n",
    "        unpacked = next(unpacker)\n",
    "        if unpacked:\n",
    "            data = pd.DataFrame(data=unpacked[1:], columns=unpacked[0], dtype='float')\n",
    "            return data\n",
    "    #data = data.reindex(index=data.index[::-1])"
   ]
  },
  {
   "cell_type": "code",
   "execution_count": 1384,
   "metadata": {},
   "outputs": [],
   "source": [
    "data = rawData()"
   ]
  },
  {
   "cell_type": "code",
   "execution_count": 1385,
   "metadata": {},
   "outputs": [],
   "source": [
    "#解析数据\n",
    "def resolveData(data,flag='open',windowsize=9):\n",
    "    columnnames = []\n",
    "    for i in range(0,windowsize):\n",
    "        columnnames.append('p'+str(i))\n",
    "    columnnames.append('P0')\n",
    "    columnnames.append('P1')\n",
    "    df = pd.DataFrame(columns=columnnames)\n",
    "    i = 0\n",
    "    while i+windowsize+1<=len(data)+1:\n",
    "        if i+windowsize+1 == len(data)+1:\n",
    "            lst = data[i:i+windowsize+1][flag]\n",
    "            lstl = lst[0:]\n",
    "            lstr = np.append(lst[windowsize-1:],-1)\n",
    "            lstnew = np.append(lstl,lstr)\n",
    "            df.loc[i] = lstnew\n",
    "        else:\n",
    "            row = data[i:i+windowsize+1][flag]\n",
    "            rowl = row[0:windowsize]\n",
    "            rowr = row[windowsize-1:]\n",
    "            newrow = np.append(rowl,rowr)\n",
    "            df.loc[i] = newrow\n",
    "        i = i+1\n",
    "    return df"
   ]
  },
  {
   "cell_type": "code",
   "execution_count": 1386,
   "metadata": {},
   "outputs": [],
   "source": [
    "opendata = resolveData(data,flag='close',windowsize=5)"
   ]
  },
  {
   "cell_type": "code",
   "execution_count": 1387,
   "metadata": {},
   "outputs": [],
   "source": [
    "#转换比率数据\n",
    "def ratioHandle(data):\n",
    "    columnnames = list(data.columns)\n",
    "    windowsize = len(data.columns)-2\n",
    "    df = pd.DataFrame(columns=columnnames)\n",
    "    current = data.ix[len(data)-1:len(data)-1,0:windowsize].values[0]\n",
    "    for i in range(0,len(data)):\n",
    "        price = data.ix[i:i,windowsize:]\n",
    "        array = data.ix[i:i,0:windowsize]\n",
    "        n = np.array(current/array)\n",
    "        abs = np.linalg.norm(n, keepdims = True)\n",
    "        newrow = np.append(n/abs,price)\n",
    "        df.loc[i] = newrow\n",
    "    return df"
   ]
  },
  {
   "cell_type": "code",
   "execution_count": 1388,
   "metadata": {},
   "outputs": [],
   "source": [
    "ratiodata = ratioHandle(opendata)"
   ]
  },
  {
   "cell_type": "code",
   "execution_count": 1389,
   "metadata": {},
   "outputs": [],
   "source": [
    "#计算向量距离\n",
    "def distHandle(data):\n",
    "    windowsize = len(data.columns)-2\n",
    "    current = data.ix[len(data)-1:len(data)-1,0:windowsize].values[0]\n",
    "    df = pd.DataFrame(columns=('dist','P0','P1'))\n",
    "    for i in range(0,len(data)-1):\n",
    "        arrayl = data.ix[i:i,0:windowsize].values[0]\n",
    "        pricer = data.ix[i:i,windowsize:].values[0]\n",
    "        dist = np.linalg.norm(current-arrayl)*100\n",
    "        item = np.append(dist,pricer)\n",
    "        df.loc[i] = item\n",
    "    return df"
   ]
  },
  {
   "cell_type": "code",
   "execution_count": 1390,
   "metadata": {},
   "outputs": [],
   "source": [
    "distdata = distHandle(ratiodata)"
   ]
  },
  {
   "cell_type": "code",
   "execution_count": 1391,
   "metadata": {},
   "outputs": [
    {
     "data": {
      "text/html": [
       "<div>\n",
       "<style>\n",
       "    .dataframe thead tr:only-child th {\n",
       "        text-align: right;\n",
       "    }\n",
       "\n",
       "    .dataframe thead th {\n",
       "        text-align: left;\n",
       "    }\n",
       "\n",
       "    .dataframe tbody tr th {\n",
       "        vertical-align: top;\n",
       "    }\n",
       "</style>\n",
       "<table border=\"1\" class=\"dataframe\">\n",
       "  <thead>\n",
       "    <tr style=\"text-align: right;\">\n",
       "      <th></th>\n",
       "      <th>dist</th>\n",
       "      <th>P0</th>\n",
       "      <th>P1</th>\n",
       "    </tr>\n",
       "  </thead>\n",
       "  <tbody>\n",
       "    <tr>\n",
       "      <th>count</th>\n",
       "      <td>4754.000000</td>\n",
       "      <td>4754.000000</td>\n",
       "      <td>4754.000000</td>\n",
       "    </tr>\n",
       "    <tr>\n",
       "      <th>mean</th>\n",
       "      <td>2.043609</td>\n",
       "      <td>169.471275</td>\n",
       "      <td>169.500038</td>\n",
       "    </tr>\n",
       "    <tr>\n",
       "      <th>std</th>\n",
       "      <td>2.580327</td>\n",
       "      <td>164.848533</td>\n",
       "      <td>164.846298</td>\n",
       "    </tr>\n",
       "    <tr>\n",
       "      <th>min</th>\n",
       "      <td>0.126189</td>\n",
       "      <td>13.120000</td>\n",
       "      <td>13.120000</td>\n",
       "    </tr>\n",
       "    <tr>\n",
       "      <th>25%</th>\n",
       "      <td>1.046628</td>\n",
       "      <td>51.332500</td>\n",
       "      <td>51.332500</td>\n",
       "    </tr>\n",
       "    <tr>\n",
       "      <th>50%</th>\n",
       "      <td>1.616547</td>\n",
       "      <td>113.575000</td>\n",
       "      <td>113.600000</td>\n",
       "    </tr>\n",
       "    <tr>\n",
       "      <th>75%</th>\n",
       "      <td>2.462094</td>\n",
       "      <td>196.107500</td>\n",
       "      <td>196.220000</td>\n",
       "    </tr>\n",
       "    <tr>\n",
       "      <th>max</th>\n",
       "      <td>80.357822</td>\n",
       "      <td>702.100000</td>\n",
       "      <td>702.100000</td>\n",
       "    </tr>\n",
       "  </tbody>\n",
       "</table>\n",
       "</div>"
      ],
      "text/plain": [
       "              dist           P0           P1\n",
       "count  4754.000000  4754.000000  4754.000000\n",
       "mean      2.043609   169.471275   169.500038\n",
       "std       2.580327   164.848533   164.846298\n",
       "min       0.126189    13.120000    13.120000\n",
       "25%       1.046628    51.332500    51.332500\n",
       "50%       1.616547   113.575000   113.600000\n",
       "75%       2.462094   196.107500   196.220000\n",
       "max      80.357822   702.100000   702.100000"
      ]
     },
     "execution_count": 1391,
     "metadata": {},
     "output_type": "execute_result"
    }
   ],
   "source": [
    "distdata.describe()"
   ]
  },
  {
   "cell_type": "code",
   "execution_count": 1392,
   "metadata": {},
   "outputs": [
    {
     "data": {
      "text/html": [
       "<div>\n",
       "<style>\n",
       "    .dataframe thead tr:only-child th {\n",
       "        text-align: right;\n",
       "    }\n",
       "\n",
       "    .dataframe thead th {\n",
       "        text-align: left;\n",
       "    }\n",
       "\n",
       "    .dataframe tbody tr th {\n",
       "        vertical-align: top;\n",
       "    }\n",
       "</style>\n",
       "<table border=\"1\" class=\"dataframe\">\n",
       "  <thead>\n",
       "    <tr style=\"text-align: right;\">\n",
       "      <th></th>\n",
       "      <th>dist</th>\n",
       "      <th>P0</th>\n",
       "      <th>P1</th>\n",
       "    </tr>\n",
       "  </thead>\n",
       "  <tbody>\n",
       "    <tr>\n",
       "      <th>30</th>\n",
       "      <td>0.992381</td>\n",
       "      <td>98.00</td>\n",
       "      <td>102.50</td>\n",
       "    </tr>\n",
       "    <tr>\n",
       "      <th>194</th>\n",
       "      <td>0.851257</td>\n",
       "      <td>47.06</td>\n",
       "      <td>46.69</td>\n",
       "    </tr>\n",
       "    <tr>\n",
       "      <th>285</th>\n",
       "      <td>0.998708</td>\n",
       "      <td>14.06</td>\n",
       "      <td>15.00</td>\n",
       "    </tr>\n",
       "    <tr>\n",
       "      <th>291</th>\n",
       "      <td>0.513250</td>\n",
       "      <td>14.88</td>\n",
       "      <td>16.37</td>\n",
       "    </tr>\n",
       "    <tr>\n",
       "      <th>329</th>\n",
       "      <td>0.864200</td>\n",
       "      <td>19.37</td>\n",
       "      <td>18.25</td>\n",
       "    </tr>\n",
       "  </tbody>\n",
       "</table>\n",
       "</div>"
      ],
      "text/plain": [
       "         dist     P0      P1\n",
       "30   0.992381  98.00  102.50\n",
       "194  0.851257  47.06   46.69\n",
       "285  0.998708  14.06   15.00\n",
       "291  0.513250  14.88   16.37\n",
       "329  0.864200  19.37   18.25"
      ]
     },
     "execution_count": 1392,
     "metadata": {},
     "output_type": "execute_result"
    }
   ],
   "source": [
    "distdata[(distdata['dist']>=0)&(distdata['dist']<=1)][0:5]"
   ]
  },
  {
   "cell_type": "code",
   "execution_count": 1398,
   "metadata": {},
   "outputs": [
    {
     "data": {
      "image/png": "[encoded data removed]",
      "text/plain": [
       "<matplotlib.figure.Figure at 0x7f7e94049588>"
      ]
     },
     "metadata": {},
     "output_type": "display_data"
    }
   ],
   "source": [
    "windowsize = len(opendata.columns)-2\n",
    "x = np.linspace(0,np.pi*2,windowsize)\n",
    "y1 = opendata.ix[4732:4732,0:windowsize].values[0]\n",
    "y2 = opendata.ix[len(opendata)-1:len(opendata)-1,0:windowsize].values[0]\n",
    "plt.plot(x,y1,'b-')\n",
    "plt.plot(x,y2,'r-')\n",
    "plt.legend(loc=0)\n",
    "plt.grid(True)"
   ]
  },
  {
   "cell_type": "code",
   "execution_count": 1394,
   "metadata": {},
   "outputs": [
    {
     "name": "stdout",
     "output_type": "stream",
     "text": [
      "sum satisfied percent: 22.738746318889355\n",
      "high  percentage:54.024051803885285\n",
      "equal percentage:0.18501387604070307\n",
      "low   percentage:45.79093432007401\n"
     ]
    }
   ],
   "source": [
    "delta = 1\n",
    "sum = len(distdata[distdata['dist']<delta])\n",
    "print('sum satisfied percent: '+str(sum/len(distdata)*100))\n",
    "high = len(distdata[(distdata['dist']<delta)&(distdata['P1']>distdata['P0'])])\n",
    "equal = len(distdata[(distdata['dist']<delta)&(distdata['P1']==distdata['P0'])])\n",
    "low = len(distdata[(distdata['dist']<delta)&(distdata['P1']<distdata['P0'])])\n",
    "highperc = high/sum * 100\n",
    "equalperc = equal/sum * 100\n",
    "lowperc = low/sum * 100\n",
    "print('high  percentage:'+str(highperc))\n",
    "print('equal percentage:'+str(equalperc))\n",
    "print('low   percentage:'+str(lowperc))"
   ]
  },
  {
   "cell_type": "code",
   "execution_count": 1395,
   "metadata": {},
   "outputs": [
    {
     "data": {
      "image/png": "[encoded data removed]",
      "text/plain": [
       "<matplotlib.figure.Figure at 0x7f7e93c94cf8>"
      ]
     },
     "metadata": {},
     "output_type": "display_data"
    }
   ],
   "source": [
    "sta = distdata.ix[0:,1:]\n",
    "oneline = (sta['P1']-sta['P0'])/sta['P0']*100\n",
    "oneline = oneline[oneline>-80]\n",
    "mean = oneline.mean()\n",
    "std = oneline.std()\n",
    "def normfun(x,mu,sigma):\n",
    "    pdf = np.exp(-((x - mu)**2)/(2*sigma**2)) / (sigma * np.sqrt(2*np.pi))\n",
    "    return pdf\n",
    "x = np.arange(-50,26,0.1)\n",
    "y = normfun(x, mean, std)\n",
    "plt.plot(x,y)\n",
    "plt.hist(oneline, bins=100, rwidth=1, normed=True)\n",
    "plt.title('Time distribution')\n",
    "plt.xlabel('Time')\n",
    "plt.ylabel('Probability')\n",
    "plt.show()"
   ]
  },
  {
   "cell_type": "code",
   "execution_count": 1396,
   "metadata": {},
   "outputs": [
    {
     "data": {
      "text/plain": [
       "count    4753.000000\n",
       "mean        0.102447\n",
       "std         2.762135\n",
       "min       -51.869159\n",
       "25%        -1.063830\n",
       "50%         0.071256\n",
       "75%         1.319925\n",
       "max        13.904959\n",
       "dtype: float64"
      ]
     },
     "execution_count": 1396,
     "metadata": {},
     "output_type": "execute_result"
    }
   ],
   "source": [
    "oneline.describe()"
   ]
  },
  {
   "cell_type": "markdown",
   "metadata": {},
   "source": [
    "# 得出结论：\n",
    "## 1、bar是固定时间段切割出的数据序列\n",
    "## 2、bar切出的数据序列中，当前数据相对前数据的增长或减小的分布是随机的，类似抛硬币正反面\n",
    "### 因此，在股市中任何长期的预测都是无法进行，即策略的长期盈利是不可能的，只能通过寻找短期时间段内概率的分布不均来进行投资或可获利"
   ]
  },
  {
   "cell_type": "code",
   "execution_count": null,
   "metadata": {},
   "outputs": [],
   "source": []
  }
 ],
 "metadata": {
  "kernelspec": {
   "display_name": "Python 3",
   "language": "python",
   "name": "python3"
  },
  "language_info": {
   "codemirror_mode": {
    "name": "ipython",
    "version": 3
   },
   "file_extension": ".py",
   "mimetype": "text/x-python",
   "name": "python",
   "nbconvert_exporter": "python",
   "pygments_lexer": "ipython3",
   "version": "3.5.2"
  }
 },
 "nbformat": 4,
 "nbformat_minor": 2
}
